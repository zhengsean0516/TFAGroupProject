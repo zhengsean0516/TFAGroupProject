{
 "cells": [
  {
   "cell_type": "code",
   "execution_count": 3,
   "metadata": {},
   "outputs": [
    {
     "name": "stderr",
     "output_type": "stream",
     "text": [
      "/Users/zhengyingxiang/opt/anaconda3/envs/dataanalytics/lib/python3.8/site-packages/IPython/core/interactiveshell.py:3441: DtypeWarning: Columns (20,31,32) have mixed types.Specify dtype option on import or set low_memory=False.\n",
      "  exec(code_obj, self.user_global_ns, self.user_ns)\n"
     ]
    }
   ],
   "source": [
    "import pandas as pd\n",
    "import numpy as np\n",
    "data = \"311_Service_Requests_2020.csv\"\n",
    "df = pd.read_csv(data)"
   ]
  },
  {
   "cell_type": "code",
   "execution_count": 8,
   "metadata": {
    "collapsed": true
   },
   "outputs": [
    {
     "name": "stdout",
     "output_type": "stream",
     "text": [
      "<class 'pandas.core.frame.DataFrame'>\n",
      "RangeIndex: 2587316 entries, 0 to 2587315\n",
      "Data columns (total 41 columns):\n",
      " #   Column                          Dtype  \n",
      "---  ------                          -----  \n",
      " 0   Unique Key                      int64  \n",
      " 1   Created Date                    object \n",
      " 2   Closed Date                     object \n",
      " 3   Agency                          object \n",
      " 4   Agency Name                     object \n",
      " 5   Complaint Type                  object \n",
      " 6   Descriptor                      object \n",
      " 7   Location Type                   object \n",
      " 8   Incident Zip                    float64\n",
      " 9   Incident Address                object \n",
      " 10  Street Name                     object \n",
      " 11  Cross Street 1                  object \n",
      " 12  Cross Street 2                  object \n",
      " 13  Intersection Street 1           object \n",
      " 14  Intersection Street 2           object \n",
      " 15  Address Type                    object \n",
      " 16  City                            object \n",
      " 17  Landmark                        object \n",
      " 18  Facility Type                   object \n",
      " 19  Status                          object \n",
      " 20  Due Date                        object \n",
      " 21  Resolution Description          object \n",
      " 22  Resolution Action Updated Date  object \n",
      " 23  Community Board                 object \n",
      " 24  BBL                             float64\n",
      " 25  Borough                         object \n",
      " 26  X Coordinate (State Plane)      float64\n",
      " 27  Y Coordinate (State Plane)      float64\n",
      " 28  Open Data Channel Type          object \n",
      " 29  Park Facility Name              object \n",
      " 30  Park Borough                    object \n",
      " 31  Vehicle Type                    object \n",
      " 32  Taxi Company Borough            object \n",
      " 33  Taxi Pick Up Location           object \n",
      " 34  Bridge Highway Name             object \n",
      " 35  Bridge Highway Direction        object \n",
      " 36  Road Ramp                       object \n",
      " 37  Bridge Highway Segment          object \n",
      " 38  Latitude                        float64\n",
      " 39  Longitude                       float64\n",
      " 40  Location                        object \n",
      "dtypes: float64(6), int64(1), object(34)\n",
      "memory usage: 809.3+ MB\n"
     ]
    }
   ],
   "source": [
    "df.info()"
   ]
  },
  {
   "cell_type": "code",
   "execution_count": 5,
   "metadata": {},
   "outputs": [
    {
     "data": {
      "text/plain": [
       "193721"
      ]
     },
     "execution_count": 5,
     "metadata": {},
     "output_type": "execute_result"
    }
   ],
   "source": [
    "N1=pd.Series(df['Complaint Type']).value_counts()['Illegal Parking']\n",
    "N1"
   ]
  },
  {
   "cell_type": "code",
   "execution_count": 6,
   "metadata": {},
   "outputs": [
    {
     "data": {
      "text/plain": [
       "2587316"
      ]
     },
     "execution_count": 6,
     "metadata": {},
     "output_type": "execute_result"
    }
   ],
   "source": [
    "N11=df['Complaint Type'].count()\n",
    "N11"
   ]
  },
  {
   "cell_type": "code",
   "execution_count": 9,
   "metadata": {},
   "outputs": [
    {
     "data": {
      "text/plain": [
       "0.07487334365033108"
      ]
     },
     "execution_count": 9,
     "metadata": {},
     "output_type": "execute_result"
    }
   ],
   "source": [
    "Global_ratio=N1/N11\n",
    "Global_ratio"
   ]
  },
  {
   "cell_type": "code",
   "execution_count": 7,
   "metadata": {},
   "outputs": [
    {
     "data": {
      "text/plain": [
       "792"
      ]
     },
     "execution_count": 7,
     "metadata": {},
     "output_type": "execute_result"
    }
   ],
   "source": [
    "N2=pd.Series(df[df['Incident Zip']==10025]['Complaint Type']).value_counts()['Illegal Parking']\n",
    "N2"
   ]
  },
  {
   "cell_type": "code",
   "execution_count": 10,
   "metadata": {},
   "outputs": [
    {
     "data": {
      "text/plain": [
       "20978"
      ]
     },
     "execution_count": 10,
     "metadata": {},
     "output_type": "execute_result"
    }
   ],
   "source": [
    "N22=df[df['Incident Zip']==10025]['Complaint Type'].count()\n",
    "N22"
   ]
  },
  {
   "cell_type": "code",
   "execution_count": 11,
   "metadata": {},
   "outputs": [
    {
     "data": {
      "text/plain": [
       "0.03775383735341787"
      ]
     },
     "execution_count": 11,
     "metadata": {},
     "output_type": "execute_result"
    }
   ],
   "source": [
    "Local_ratio=N2/N22\n",
    "Local_ratio"
   ]
  },
  {
   "cell_type": "code",
   "execution_count": 12,
   "metadata": {},
   "outputs": [
    {
     "data": {
      "text/plain": [
       "False"
      ]
     },
     "execution_count": 12,
     "metadata": {},
     "output_type": "execute_result"
    }
   ],
   "source": [
    "higher_parking_proportion=Local_ratio>Global_ratio\n",
    "higher_parking_proportion"
   ]
  },
  {
   "cell_type": "code",
   "execution_count": null,
   "metadata": {},
   "outputs": [],
   "source": []
  }
 ],
 "metadata": {
  "kernelspec": {
   "display_name": "Python 3",
   "language": "python",
   "name": "python3"
  },
  "language_info": {
   "codemirror_mode": {
    "name": "ipython",
    "version": 3
   },
   "file_extension": ".py",
   "mimetype": "text/x-python",
   "name": "python",
   "nbconvert_exporter": "python",
   "pygments_lexer": "ipython3",
   "version": "3.8.5"
  }
 },
 "nbformat": 4,
 "nbformat_minor": 5
}
